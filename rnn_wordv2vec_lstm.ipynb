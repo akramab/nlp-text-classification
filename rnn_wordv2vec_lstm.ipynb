{
  "cells": [
    {
      "cell_type": "markdown",
      "source": [
        "# inisialisasi eksperimen\n",
        "eksperimen variable:\n",
        "- learning rate\n",
        "- batch size\n",
        "- epoch\n",
        "- max seq len"
      ],
      "metadata": {
        "id": "wU8wiJxLS_Xp"
      }
    },
    {
      "cell_type": "code",
      "source": [
        "# experiment parameters\n",
        "LEARNING_RATE = 1e-3\n",
        "EPOCH = 10\n",
        "MAX_SEQ_LEN = 50\n",
        "BATCH_SIZE = 1"
      ],
      "metadata": {
        "id": "mOok0zmcTBNL"
      },
      "execution_count": 2,
      "outputs": []
    },
    {
      "metadata": {
        "_uuid": "d22e617bfd98e8df727eed405fd73cfb8b76a56b",
        "_cell_guid": "2386d98e-728c-44d4-9158-9f51d910d61a",
        "id": "gbKViQe4cHqC"
      },
      "cell_type": "markdown",
      "source": [
        "# Loading Required Libraries"
      ]
    },
    {
      "metadata": {
        "id": "VO6TORg-yl3l",
        "_cell_guid": "3e2702ef-cdb1-4fc1-8a8d-043bf290454c",
        "_uuid": "b4f953c1e3e65c804d84bab1bbb8096284eba9bb",
        "scrolled": false,
        "trusted": false,
        "collapsed": true
      },
      "cell_type": "code",
      "source": [
        "import warnings\n",
        "warnings.filterwarnings('ignore')\n",
        "\n",
        "# Modules for data manipulation\n",
        "import numpy as np\n",
        "import pandas as pd\n",
        "import re\n",
        "\n",
        "# Modules for visualization\n",
        "import matplotlib.pyplot as plt\n",
        "import seaborn as sb\n",
        "%matplotlib inline\n",
        "\n",
        "# Tools for preprocessing input data\n",
        "from bs4 import BeautifulSoup\n",
        "from nltk import word_tokenize\n",
        "from nltk.corpus import stopwords\n",
        "from nltk.stem import WordNetLemmatizer\n",
        "\n",
        "# Tools for creating ngrams and vectorizing input data\n",
        "from gensim.models import Word2Vec, Phrases\n",
        "\n",
        "# Tools for building a model\n",
        "from sklearn.model_selection import train_test_split\n",
        "from keras.models import Sequential\n",
        "from keras.layers import Input, Embedding, Dropout, Conv1D, MaxPool1D, GRU, LSTM, Dense, Bidirectional\n",
        "from keras.layers.embeddings import Embedding\n",
        "from keras.preprocessing.sequence import pad_sequences\n",
        "\n",
        "# Tools for assessing the quality of model prediction\n",
        "from sklearn.metrics import accuracy_score, confusion_matrix, roc_auc_score, roc_curve"
      ],
      "execution_count": 26,
      "outputs": []
    },
    {
      "cell_type": "code",
      "source": [
        "#Colab version\n",
        "from google.colab import drive\n",
        "drive.mount('/content/drive')\n",
        "\n",
        "#Path relativesBesok paginya \n",
        "path = '/content/drive/My Drive/semester 7/nlp/data_worthcheck/'"
      ],
      "metadata": {
        "colab": {
          "base_uri": "https://localhost:8080/"
        },
        "id": "-3aaGK2ze-Zv",
        "outputId": "153f0cdd-7a3f-42b5-e428-b8525ae26f25"
      },
      "execution_count": 4,
      "outputs": [
        {
          "output_type": "stream",
          "name": "stdout",
          "text": [
            "Mounted at /content/drive\n"
          ]
        }
      ]
    },
    {
      "metadata": {
        "id": "POSiAyaZy5Lm",
        "_cell_guid": "e50b8e65-c196-40a6-9e17-3f82b2ee00a9",
        "collapsed": true,
        "_uuid": "59166afb907bdaec7f6bc502283b1576c886cfc0",
        "trusted": false
      },
      "cell_type": "code",
      "source": [
        "from sklearn.preprocessing import LabelEncoder\n",
        "\n",
        "# defining function to clean text and retrive closs-validation datasets\n",
        "def cleantxt(txt):\n",
        "    \"\"\"\n",
        "    Cleans the string passed. Cleaning Includes-\n",
        "    1. remove special characters/symbols\n",
        "    2. convert text to lower-case\n",
        "    3. retain only alphabets\n",
        "    4. remove words less than 3 characters\n",
        "    5. remove stop-words\n",
        "    \"\"\"  \n",
        "    # collecting english stop words from nltk-library\n",
        "    stpw = stopwords.words('english')\n",
        "    \n",
        "    # Adding custom stop-words\n",
        "    stpw.extend(['www','http','utc'])\n",
        "    stpw = set(stpw)\n",
        "    \n",
        "    # using regex to clean the text\n",
        "    txt = re.sub(r\"\\n\", \" \", txt)\n",
        "    txt = re.sub(\"[\\<\\[].*?[\\>\\]]\", \" \", txt)\n",
        "    txt = txt.lower()\n",
        "    txt = re.sub(r\"[^a-z ]\", \" \", txt)\n",
        "    txt = re.sub(r\"\\b\\w{1,3}\\b\", \" \",txt)\n",
        "    txt = \" \".join([x for x in txt.split() if x not in stpw])\n",
        "    return txt\n",
        "\n",
        "\n",
        "def load_data():\n",
        "    \"\"\"\n",
        "    Loads data and returns train, val, and test splits\n",
        "    \"\"\"\n",
        "\n",
        "    le = LabelEncoder()\n",
        "    ps_train= pd.read_csv(path+'train.csv', index_col=0)\n",
        "    ps_train['label'] = le.fit_transform(ps_train['label'])\n",
        "\n",
        "    ps_test= pd.read_csv(path+'test.csv')\n",
        "    ps_test['label'] = le.fit_transform(ps_test['label'])\n",
        "    \n",
        "    data_train = ps_train.dropna(subset=['text_a'])\n",
        "    data_train_single = data_train.drop_duplicates('text_a')\n",
        "\n",
        "    \n",
        "    X_train, X_val, y_train, y_val = train_test_split(data_train_single['text_a'], data_train_single['label'], test_size=0.4, random_state=123)\n",
        "    X_test = ps_test['text_a']\n",
        "    y_test = ps_test['label']\n",
        "    \n",
        "    return X_train, X_val, X_test, y_train, y_val, y_test\n"
      ],
      "execution_count": 5,
      "outputs": []
    },
    {
      "metadata": {
        "_uuid": "fedc9b5a07c8c77381f2a3d2ead7a447b176d22c",
        "id": "B2XrS6MByhLp",
        "_cell_guid": "3a95424d-bd70-4e0d-8d9d-ace05da076a3"
      },
      "cell_type": "markdown",
      "source": [
        "# Implementation of RNN using word embeddings using word2vec for text classification\n"
      ]
    },
    {
      "metadata": {
        "_uuid": "44b9f25456cd348d1f2ebc66ee7550b793ebb17d",
        "id": "CZAqRc-8yhLt",
        "_cell_guid": "7cdfbb35-22ef-4c14-8b21-0f32f9a36eb1"
      },
      "cell_type": "markdown",
      "source": [
        "## 1. Loading Data"
      ]
    },
    {
      "metadata": {
        "id": "pgUlZs87yhL_",
        "_cell_guid": "a66755fd-26a8-4956-ade4-54f7c5dce812",
        "collapsed": true,
        "_uuid": "51e82dd01d9e21749cd222c2209153628d01eccb",
        "scrolled": true,
        "trusted": false
      },
      "cell_type": "code",
      "source": [
        "# Load the data\n",
        "X_train, X_val, X_test, y_train, y_val, y_test = load_data()\n",
        "\n",
        "all_reviews = np.array([], dtype=str)\n",
        "all_reviews = np.concatenate((all_reviews, X_train), axis=0)"
      ],
      "execution_count": 104,
      "outputs": []
    },
    {
      "cell_type": "code",
      "source": [
        "bigrams = Phrases(sentences=all_reviews)\n",
        "trigrams = Phrases(sentences=bigrams[all_reviews])\n",
        "\n",
        "embedding_vector_size = 256\n",
        "trigrams_model = Word2Vec(\n",
        "    sentences = trigrams[bigrams[all_reviews]],\n",
        "    size = embedding_vector_size,\n",
        "    min_count=3, window=5, workers=4)\n",
        "print(\"Vocabulary size:\", len(trigrams_model.wv.vocab))"
      ],
      "metadata": {
        "colab": {
          "base_uri": "https://localhost:8080/"
        },
        "id": "jfAWZwOS67XX",
        "outputId": "de5e42da-228d-45fd-bfbf-fb2dd8924686"
      },
      "execution_count": 105,
      "outputs": [
        {
          "output_type": "stream",
          "name": "stderr",
          "text": [
            "WARNING:gensim.models.word2vec:Each 'sentences' item should be a list of words (usually unicode strings). First item here is instead plain <class 'str'>.\n"
          ]
        },
        {
          "output_type": "stream",
          "name": "stdout",
          "text": [
            "Vocabulary size: 139\n"
          ]
        }
      ]
    },
    {
      "cell_type": "code",
      "source": [
        "def vectorize_data(data, vocab: dict) -> list:\n",
        "    print('Vectorize sentences...', end='\\r')\n",
        "    keys = list(vocab.keys())\n",
        "    filter_unknown = lambda word: vocab.get(word, None) is not None\n",
        "    encode = lambda review: list(map(keys.index, filter(filter_unknown, review)))\n",
        "    vectorized = list(map(encode, data))\n",
        "    print('Vectorize sentences... (done)')\n",
        "    return vectorized\n",
        "\n",
        "print('Convert sentences to sentences with ngrams...', end='\\r')\n",
        "X_data = trigrams[bigrams[X_train]]\n",
        "print('Convert sentences to sentences with ngrams... (done)')\n",
        "MAX_REVIEW_LENGTH = 150\n",
        "X_pad = pad_sequences(sequences=vectorize_data(X_data, vocab=trigrams_model.wv.vocab), maxlen=MAX_REVIEW_LENGTH, padding='post')\n",
        "print('Transform sentences to sequences... (done)')"
      ],
      "metadata": {
        "colab": {
          "base_uri": "https://localhost:8080/"
        },
        "id": "Fzhxbt_m_Buv",
        "outputId": "6a789894-93ec-4b77-ddc6-1f4e1ee7c59c"
      },
      "execution_count": 102,
      "outputs": [
        {
          "output_type": "stream",
          "name": "stdout",
          "text": [
            "Convert sentences to sentences with ngrams...\rConvert sentences to sentences with ngrams... (done)\n",
            "Vectorize sentences...\rVectorize sentences... (done)\n",
            "Transform sentences to sequences... (done)\n"
          ]
        }
      ]
    },
    {
      "cell_type": "code",
      "source": [
        "def build_model(embedding_matrix: np.ndarray, input_length: int,  use_lstm: bool):\n",
        "    model = Sequential()\n",
        "    model.add(Embedding(\n",
        "        input_dim = embedding_matrix.shape[0],\n",
        "        output_dim = embedding_matrix.shape[1], \n",
        "        input_length = input_length,\n",
        "        weights = [embedding_matrix],\n",
        "        trainable=False))\n",
        "    if use_lstm:\n",
        "        model.add(Bidirectional(LSTM(128, recurrent_dropout=0.1)))\n",
        "    else:\n",
        "        model.add(Bidirectional(GRU(128, recurrent_dropout=0.1)))\n",
        "    model.add(Dropout(0.25))\n",
        "    model.add(Dense(64))\n",
        "    model.add(Dropout(0.3))\n",
        "    model.add(Dense(1, activation='sigmoid'))\n",
        "    model.summary()\n",
        "    return model\n",
        "\n",
        "lstm_model = build_model(embedding_matrix=trigrams_model.wv.vectors, input_length=MAX_REVIEW_LENGTH, use_lstm=True)\n",
        "lstm_model.compile(loss=\"binary_crossentropy\", optimizer='adam', metrics=['accuracy'])\n",
        "\n",
        "X_train, X_test, y_train, y_test = train_test_split(X_pad, y_train, test_size=0.05, shuffle=True, random_state=42)\n",
        "\n",
        "history = lstm_model.fit(x=X_train, y=y_train, validation_data=(X_train, y_train), batch_size=2000, epochs=5)"
      ],
      "metadata": {
        "colab": {
          "base_uri": "https://localhost:8080/"
        },
        "id": "a2KkFUqS_HSV",
        "outputId": "3b308e7b-f1c5-4f58-fc7a-42ee70643f75"
      },
      "execution_count": 106,
      "outputs": [
        {
          "output_type": "stream",
          "name": "stderr",
          "text": [
            "WARNING:tensorflow:Layer lstm_25 will not use cuDNN kernels since it doesn't meet the criteria. It will use a generic GPU kernel as fallback when running on GPU.\n",
            "WARNING:tensorflow:Layer lstm_25 will not use cuDNN kernels since it doesn't meet the criteria. It will use a generic GPU kernel as fallback when running on GPU.\n",
            "WARNING:tensorflow:Layer lstm_25 will not use cuDNN kernels since it doesn't meet the criteria. It will use a generic GPU kernel as fallback when running on GPU.\n"
          ]
        },
        {
          "output_type": "stream",
          "name": "stdout",
          "text": [
            "Model: \"sequential_26\"\n",
            "_________________________________________________________________\n",
            " Layer (type)                Output Shape              Param #   \n",
            "=================================================================\n",
            " embedding_27 (Embedding)    (None, 150, 256)          35584     \n",
            "                                                                 \n",
            " bidirectional_26 (Bidirecti  (None, 256)              394240    \n",
            " onal)                                                           \n",
            "                                                                 \n",
            " dropout_53 (Dropout)        (None, 256)               0         \n",
            "                                                                 \n",
            " dense_54 (Dense)            (None, 64)                16448     \n",
            "                                                                 \n",
            " dropout_54 (Dropout)        (None, 64)                0         \n",
            "                                                                 \n",
            " dense_55 (Dense)            (None, 1)                 65        \n",
            "                                                                 \n",
            "=================================================================\n",
            "Total params: 446,337\n",
            "Trainable params: 410,753\n",
            "Non-trainable params: 35,584\n",
            "_________________________________________________________________\n",
            "Epoch 1/5\n",
            "5/5 [==============================] - 12s 1s/step - loss: 0.6157 - accuracy: 0.7019 - val_loss: 0.5789 - val_accuracy: 0.7204\n",
            "Epoch 2/5\n",
            "5/5 [==============================] - 6s 1s/step - loss: 0.5854 - accuracy: 0.7264 - val_loss: 0.5737 - val_accuracy: 0.7273\n",
            "Epoch 3/5\n",
            "5/5 [==============================] - 6s 1s/step - loss: 0.5765 - accuracy: 0.7281 - val_loss: 0.5726 - val_accuracy: 0.7289\n",
            "Epoch 4/5\n",
            "5/5 [==============================] - 6s 1s/step - loss: 0.5729 - accuracy: 0.7294 - val_loss: 0.5698 - val_accuracy: 0.7317\n",
            "Epoch 5/5\n",
            "5/5 [==============================] - 6s 1s/step - loss: 0.5713 - accuracy: 0.7294 - val_loss: 0.5652 - val_accuracy: 0.7330\n"
          ]
        }
      ]
    },
    {
      "cell_type": "code",
      "source": [
        "fig, (axis1, axis2) = plt.subplots(nrows=1, ncols=2, figsize=(16,6))\n",
        "\n",
        "# summarize history for accuracy\n",
        "axis1.plot(history.history['accuracy'], label='Train', linewidth=3)\n",
        "axis1.plot(history.history['val_accuracy'], label='Validation', linewidth=3)\n",
        "axis1.set_title('Model accuracy', fontsize=16)\n",
        "axis1.set_ylabel('accuracy')\n",
        "axis1.set_xlabel('epoch')\n",
        "axis1.legend(loc='upper left')\n",
        "\n",
        "# summarize history for loss\n",
        "axis2.plot(history.history['loss'], label='Train', linewidth=3)\n",
        "axis2.plot(history.history['val_loss'], label='Validation', linewidth=3)\n",
        "axis2.set_title('Model loss', fontsize=16)\n",
        "axis2.set_ylabel('loss')\n",
        "axis2.set_xlabel('epoch')\n",
        "axis2.legend(loc='upper right')\n",
        "plt.show()"
      ],
      "metadata": {
        "colab": {
          "base_uri": "https://localhost:8080/",
          "height": 406
        },
        "id": "HOC2f9r3Bk0p",
        "outputId": "1e3032e4-6cb8-4d0a-b790-bad775ed596b"
      },
      "execution_count": 107,
      "outputs": [
        {
          "output_type": "display_data",
          "data": {
            "text/plain": [
              "<Figure size 1152x432 with 2 Axes>"
            ],
            "image/png": "[encoded data removed]"
          },
          "metadata": {
            "needs_background": "light"
          }
        }
      ]
    },
    {
      "cell_type": "code",
      "source": [
        "from sklearn.metrics import accuracy_score, roc_auc_score, roc_curve\n",
        "from keras.layers import Input, Embedding, Dropout, Conv1D, MaxPool1D, GRU, LSTM, Dense\n",
        "\n",
        "\n",
        "y_test_pred_lstm = lstm_model.predict(X_test)\n",
        "\n",
        "print(\"The AUC score of the model is : %.4f.\" %roc_auc_score(y_test, y_test_pred_lstm))\n",
        "\n",
        "y_pred_list = [y_test_pred_lstm]\n",
        "label_list = [\"LSTM\"]\n",
        "pred_label = zip(y_pred_list, label_list)\n",
        "for y_pred, lbl in pred_label:\n",
        "    fpr, tpr, _ = roc_curve(y_test, y_pred)\n",
        "    plt.plot(fpr, tpr, label = lbl)\n",
        "\n",
        "plt.xlabel(\"True Postive Rate\")\n",
        "plt.ylabel(\"False Positive Rate\")\n",
        "plt.title(\"ROC Curve\")\n",
        "plt.legend()\n",
        "plt.show()"
      ],
      "metadata": {
        "colab": {
          "base_uri": "https://localhost:8080/",
          "height": 312
        },
        "id": "qWvlBiqeCd5M",
        "outputId": "b2f972b5-5364-4ada-efa5-593d9e913086"
      },
      "execution_count": 108,
      "outputs": [
        {
          "output_type": "stream",
          "name": "stdout",
          "text": [
            "The AUC score of the model is : 0.6244.\n"
          ]
        },
        {
          "output_type": "display_data",
          "data": {
            "text/plain": [
              "<Figure size 432x288 with 1 Axes>"
            ],
            "image/png": "[encoded data removed]"
          },
          "metadata": {
            "needs_background": "light"
          }
        }
      ]
    },
    {
      "metadata": {
        "_uuid": "5fc9d863868ee3fd4bab805929dbd66056d07f21",
        "id": "xrRmlaX-yhMJ",
        "_cell_guid": "daf4d78b-f06c-4795-a450-f4d52f56017b"
      },
      "cell_type": "markdown",
      "source": [
        "### 2. Tokenize text of the training data with keras text preprocessing functions ###"
      ]
    },
    {
      "metadata": {
        "_uuid": "532a1ec3af6233e091d08b87d525d49a2f3a538f",
        "id": "6DCC0q6fyhN3",
        "_cell_guid": "78074769-9cd2-4cba-a763-86722a6b837c"
      },
      "cell_type": "markdown",
      "source": [
        "# Predict on test data"
      ]
    },
    {
      "cell_type": "code",
      "source": [
        "from sklearn.metrics import classification_report\n",
        "# Predict on train, val and test datasets\n",
        "pred_test = lstm_model.predict(X_test)\n",
        "pred_test_class = [round(x[0]) for x in pred_test]\n",
        "\n",
        "print(classification_report(y_test, pred_test_class))"
      ],
      "metadata": {
        "id": "9yoNhTtp8r7z",
        "colab": {
          "base_uri": "https://localhost:8080/"
        },
        "outputId": "6577d483-bfdd-4e50-e618-efa799a59a58"
      },
      "execution_count": 110,
      "outputs": [
        {
          "output_type": "stream",
          "name": "stdout",
          "text": [
            "              precision    recall  f1-score   support\n",
            "\n",
            "           0       0.73      0.97      0.83       343\n",
            "           1       0.67      0.12      0.21       144\n",
            "\n",
            "    accuracy                           0.72       487\n",
            "   macro avg       0.70      0.55      0.52       487\n",
            "weighted avg       0.71      0.72      0.65       487\n",
            "\n"
          ]
        }
      ]
    }
  ],
  "metadata": {
    "colab": {
      "provenance": []
    },
    "language_info": {
      "pygments_lexer": "ipython3",
      "nbconvert_exporter": "python",
      "name": "python",
      "version": "3.6.5",
      "codemirror_mode": {
        "version": 3,
        "name": "ipython"
      },
      "mimetype": "text/x-python",
      "file_extension": ".py"
    },
    "accelerator": "GPU",
    "kernelspec": {
      "display_name": "Python 3",
      "language": "python",
      "name": "python3"
    }
  },
  "nbformat": 4,
  "nbformat_minor": 0
}